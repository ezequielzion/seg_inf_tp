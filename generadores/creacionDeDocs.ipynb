{
 "cells": [
  {
   "cell_type": "code",
   "execution_count": 1,
   "id": "aa2d8334-253f-4f39-9204-155772407296",
   "metadata": {},
   "outputs": [],
   "source": [
    "from docx import Document\n",
    "from docx.oxml import OxmlElement\n",
    "from docx.oxml.ns import qn"
   ]
  },
  {
   "cell_type": "code",
   "execution_count": 2,
   "id": "03942038-e0e4-4be0-a799-bf11bc4c19f4",
   "metadata": {},
   "outputs": [],
   "source": [
    "# http://officeopenxml.com/WPfields.php\n",
    "\n",
    "def create_include_picture_field(url):\n",
    "    fldChar1 = OxmlElement('w:fldChar')\n",
    "    fldChar1.set(qn('w:fldCharType'), 'begin')\n",
    "\n",
    "    instrText = OxmlElement('w:instrText')\n",
    "    instrText.set(qn('xml:space'), 'preserve')\n",
    "    instrText.text = f'INCLUDEPICTURE \"{url}\" \\\\d \\\\* MERGEFORMAT'\n",
    "\n",
    "    fldChar2 = OxmlElement('w:fldChar')\n",
    "    fldChar2.set(qn('w:fldCharType'), 'separate')\n",
    "\n",
    "    fldChar3 = OxmlElement('w:fldChar')\n",
    "    fldChar3.set(qn('w:fldCharType'), 'end')\n",
    "\n",
    "    r = OxmlElement('w:r')\n",
    "    r.append(fldChar1)\n",
    "    r.append(instrText)\n",
    "    r.append(fldChar2)\n",
    "    r.append(fldChar3)\n",
    "\n",
    "    return r"
   ]
  },
  {
   "cell_type": "code",
   "execution_count": 3,
   "id": "07dac3a1-d299-460f-ad94-6a04d288eba6",
   "metadata": {},
   "outputs": [],
   "source": [
    "def create_word(name='ejemplo.docx',url):\n",
    "    doc = Document()\n",
    "\n",
    "    # Texto en encabezado\n",
    "    section = doc.sections[0]\n",
    "    header = section.header\n",
    "    header_paragraph = header.paragraphs[0] if header.paragraphs else header.add_paragraph()\n",
    "    field = create_include_picture_field(url)\n",
    "    header_paragraph._element.append(field)\n",
    "\n",
    "    # Texto de distraccion\n",
    "    paragraph = doc.add_paragraph('Gracias por descargar nuestro documento de Word :)').italic = True\n",
    "\n",
    "    doc.save(name)"
   ]
  },
  {
   "cell_type": "code",
   "execution_count": null,
   "id": "3dccc0da-4a51-4de8-abfb-42c8f22b54f3",
   "metadata": {},
   "outputs": [],
   "source": [
    "create_word(name='testing',url='https://www.example.com/image.jpg')"
   ]
  }
 ],
 "metadata": {
  "kernelspec": {
   "display_name": "Python 3 (ipykernel)",
   "language": "python",
   "name": "python3"
  },
  "language_info": {
   "codemirror_mode": {
    "name": "ipython",
    "version": 3
   },
   "file_extension": ".py",
   "mimetype": "text/x-python",
   "name": "python",
   "nbconvert_exporter": "python",
   "pygments_lexer": "ipython3",
   "version": "3.12.3"
  }
 },
 "nbformat": 4,
 "nbformat_minor": 5
}
